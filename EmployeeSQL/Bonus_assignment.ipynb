{
 "cells": [
  {
   "cell_type": "markdown",
   "id": "ee6cf914",
   "metadata": {},
   "source": [
    "# Bonus Assignment\n",
    "Create a histogram to visualize the most common salary ranges for employees"
   ]
  },
  {
   "cell_type": "code",
   "execution_count": 1,
   "id": "9b9882fd",
   "metadata": {},
   "outputs": [],
   "source": [
    "# Import Dependencies\n",
    "import pandas as pd\n",
    "\n",
    "# Create a sqlite database\n",
    "from pathlib import Path\n",
    "Path('salaries.db').touch()"
   ]
  },
  {
   "cell_type": "code",
   "execution_count": 2,
   "id": "e9ace155",
   "metadata": {},
   "outputs": [],
   "source": [
    "# Create sqlite table\n",
    "# Need database connection and cursor to execute queries \n",
    "import sqlite3\n",
    "\n",
    "conn =sqlite3.connect('salaries.db')\n",
    "c = conn.cursor()"
   ]
  },
  {
   "cell_type": "code",
   "execution_count": 5,
   "id": "9f8e3fc2",
   "metadata": {
    "scrolled": true
   },
   "outputs": [
    {
     "data": {
      "text/plain": [
       "<sqlite3.Cursor at 0x7f7f690fa110>"
      ]
     },
     "execution_count": 5,
     "metadata": {},
     "output_type": "execute_result"
    }
   ],
   "source": [
    "# Execute query to create Salaries table with emp_no and salary columns\n",
    "c.execute('''CREATE TABLE salaries_df (emp_no, salary)''')"
   ]
  },
  {
   "cell_type": "code",
   "execution_count": 6,
   "id": "f9637a49",
   "metadata": {},
   "outputs": [],
   "source": [
    "# Import Dependencies\n",
    "import pandas as pd\n",
    "\n",
    "# Add Salaries CSV to table\n",
    "salaries = pd.read_csv('salaries.csv') "
   ]
  },
  {
   "cell_type": "code",
   "execution_count": 7,
   "id": "b6f29554",
   "metadata": {},
   "outputs": [],
   "source": [
    "# load to DataFrame\n",
    "salaries.to_sql('salaries', conn, if_exists='append', index = False) "
   ]
  },
  {
   "cell_type": "code",
   "execution_count": 9,
   "id": "3c786075",
   "metadata": {
    "scrolled": true
   },
   "outputs": [
    {
     "data": {
      "text/html": [
       "<div>\n",
       "<style scoped>\n",
       "    .dataframe tbody tr th:only-of-type {\n",
       "        vertical-align: middle;\n",
       "    }\n",
       "\n",
       "    .dataframe tbody tr th {\n",
       "        vertical-align: top;\n",
       "    }\n",
       "\n",
       "    .dataframe thead th {\n",
       "        text-align: right;\n",
       "    }\n",
       "</style>\n",
       "<table border=\"1\" class=\"dataframe\">\n",
       "  <thead>\n",
       "    <tr style=\"text-align: right;\">\n",
       "      <th></th>\n",
       "      <th>emp_no</th>\n",
       "      <th>salary</th>\n",
       "    </tr>\n",
       "  </thead>\n",
       "  <tbody>\n",
       "    <tr>\n",
       "      <th>0</th>\n",
       "      <td>10001</td>\n",
       "      <td>60117</td>\n",
       "    </tr>\n",
       "    <tr>\n",
       "      <th>1</th>\n",
       "      <td>10002</td>\n",
       "      <td>65828</td>\n",
       "    </tr>\n",
       "    <tr>\n",
       "      <th>2</th>\n",
       "      <td>10003</td>\n",
       "      <td>40006</td>\n",
       "    </tr>\n",
       "    <tr>\n",
       "      <th>3</th>\n",
       "      <td>10004</td>\n",
       "      <td>40054</td>\n",
       "    </tr>\n",
       "    <tr>\n",
       "      <th>4</th>\n",
       "      <td>10005</td>\n",
       "      <td>78228</td>\n",
       "    </tr>\n",
       "  </tbody>\n",
       "</table>\n",
       "</div>"
      ],
      "text/plain": [
       "   emp_no  salary\n",
       "0   10001   60117\n",
       "1   10002   65828\n",
       "2   10003   40006\n",
       "3   10004   40054\n",
       "4   10005   78228"
      ]
     },
     "execution_count": 9,
     "metadata": {},
     "output_type": "execute_result"
    }
   ],
   "source": [
    "# Preview Salaries data\n",
    "salaries.head()"
   ]
  },
  {
   "cell_type": "code",
   "execution_count": 10,
   "id": "3c46f9ac",
   "metadata": {},
   "outputs": [
    {
     "data": {
      "text/plain": [
       "emp_no    499999\n",
       "salary    129492\n",
       "dtype: int64"
      ]
     },
     "execution_count": 10,
     "metadata": {},
     "output_type": "execute_result"
    }
   ],
   "source": [
    "# Determine max salary\n",
    "salaries.max()"
   ]
  },
  {
   "cell_type": "code",
   "execution_count": 11,
   "id": "78ac1622",
   "metadata": {},
   "outputs": [
    {
     "data": {
      "text/plain": [
       "emp_no    10001\n",
       "salary    40000\n",
       "dtype: int64"
      ]
     },
     "execution_count": 11,
     "metadata": {},
     "output_type": "execute_result"
    }
   ],
   "source": [
    "# Determine min salary\n",
    "salaries.min()"
   ]
  },
  {
   "cell_type": "code",
   "execution_count": 12,
   "id": "214a81b1",
   "metadata": {},
   "outputs": [],
   "source": [
    "# Import Dependencies\n",
    "import matplotlib.pyplot as plt\n",
    "import numpy as np"
   ]
  },
  {
   "cell_type": "code",
   "execution_count": 13,
   "id": "29a276e9",
   "metadata": {},
   "outputs": [
    {
     "data": {
      "image/png": "[encoded data removed]",
      "text/plain": [
       "<Figure size 432x288 with 1 Axes>"
      ]
     },
     "metadata": {
      "needs_background": "light"
     },
     "output_type": "display_data"
    }
   ],
   "source": [
    "# Determine number of employees at each salary range\n",
    "\n",
    "salaries.hist(column='salary');\n",
    "plt.xlabel('Salaries')\n",
    "plt.ylabel('Frequency')\n",
    "plt.title('Most Common Salary Ranges')\n",
    "plt.show()"
   ]
  },
  {
   "cell_type": "markdown",
   "id": "e118ace3",
   "metadata": {},
   "source": [
    "Create a bar chart of average salary by title"
   ]
  },
  {
   "cell_type": "code",
   "execution_count": 14,
   "id": "cd31ab85",
   "metadata": {},
   "outputs": [
    {
     "data": {
      "text/plain": [
       "<sqlite3.Cursor at 0x7f7f690fa110>"
      ]
     },
     "execution_count": 14,
     "metadata": {},
     "output_type": "execute_result"
    }
   ],
   "source": [
    "# Create Employees Table\n",
    "c.execute('''CREATE TABLE employee (emp_no, emp_title_id, birth_date, first_name, last_name, sex, hire_date)''')"
   ]
  },
  {
   "cell_type": "code",
   "execution_count": 15,
   "id": "0e995378",
   "metadata": {},
   "outputs": [],
   "source": [
    "# Add Employees CSV to table\n",
    "employees = pd.read_csv('employees.csv')\n",
    "\n",
    "# write the data to a sqlite table\n",
    "employees.to_sql('employee', conn, if_exists='append', index = False)"
   ]
  },
  {
   "cell_type": "code",
   "execution_count": 16,
   "id": "576d55f1",
   "metadata": {},
   "outputs": [
    {
     "data": {
      "text/html": [
       "<div>\n",
       "<style scoped>\n",
       "    .dataframe tbody tr th:only-of-type {\n",
       "        vertical-align: middle;\n",
       "    }\n",
       "\n",
       "    .dataframe tbody tr th {\n",
       "        vertical-align: top;\n",
       "    }\n",
       "\n",
       "    .dataframe thead th {\n",
       "        text-align: right;\n",
       "    }\n",
       "</style>\n",
       "<table border=\"1\" class=\"dataframe\">\n",
       "  <thead>\n",
       "    <tr style=\"text-align: right;\">\n",
       "      <th></th>\n",
       "      <th>emp_no</th>\n",
       "      <th>emp_title_id</th>\n",
       "      <th>birth_date</th>\n",
       "      <th>first_name</th>\n",
       "      <th>last_name</th>\n",
       "      <th>sex</th>\n",
       "      <th>hire_date</th>\n",
       "    </tr>\n",
       "  </thead>\n",
       "  <tbody>\n",
       "    <tr>\n",
       "      <th>0</th>\n",
       "      <td>473302</td>\n",
       "      <td>s0001</td>\n",
       "      <td>7/25/1953</td>\n",
       "      <td>Hideyuki</td>\n",
       "      <td>Zallocco</td>\n",
       "      <td>M</td>\n",
       "      <td>4/28/1990</td>\n",
       "    </tr>\n",
       "    <tr>\n",
       "      <th>1</th>\n",
       "      <td>475053</td>\n",
       "      <td>e0002</td>\n",
       "      <td>11/18/1954</td>\n",
       "      <td>Byong</td>\n",
       "      <td>Delgrande</td>\n",
       "      <td>F</td>\n",
       "      <td>9/7/1991</td>\n",
       "    </tr>\n",
       "    <tr>\n",
       "      <th>2</th>\n",
       "      <td>57444</td>\n",
       "      <td>e0002</td>\n",
       "      <td>1/30/1958</td>\n",
       "      <td>Berry</td>\n",
       "      <td>Babb</td>\n",
       "      <td>F</td>\n",
       "      <td>3/21/1992</td>\n",
       "    </tr>\n",
       "    <tr>\n",
       "      <th>3</th>\n",
       "      <td>421786</td>\n",
       "      <td>s0001</td>\n",
       "      <td>9/28/1957</td>\n",
       "      <td>Xiong</td>\n",
       "      <td>Verhoeff</td>\n",
       "      <td>M</td>\n",
       "      <td>11/26/1987</td>\n",
       "    </tr>\n",
       "    <tr>\n",
       "      <th>4</th>\n",
       "      <td>282238</td>\n",
       "      <td>e0003</td>\n",
       "      <td>10/28/1952</td>\n",
       "      <td>Abdelkader</td>\n",
       "      <td>Baumann</td>\n",
       "      <td>F</td>\n",
       "      <td>1/18/1991</td>\n",
       "    </tr>\n",
       "  </tbody>\n",
       "</table>\n",
       "</div>"
      ],
      "text/plain": [
       "   emp_no emp_title_id  birth_date  first_name  last_name sex   hire_date\n",
       "0  473302        s0001   7/25/1953    Hideyuki   Zallocco   M   4/28/1990\n",
       "1  475053        e0002  11/18/1954       Byong  Delgrande   F    9/7/1991\n",
       "2   57444        e0002   1/30/1958       Berry       Babb   F   3/21/1992\n",
       "3  421786        s0001   9/28/1957       Xiong   Verhoeff   M  11/26/1987\n",
       "4  282238        e0003  10/28/1952  Abdelkader    Baumann   F   1/18/1991"
      ]
     },
     "execution_count": 16,
     "metadata": {},
     "output_type": "execute_result"
    }
   ],
   "source": [
    "# Preview Employee Data\n",
    "employees.head()"
   ]
  },
  {
   "cell_type": "code",
   "execution_count": 17,
   "id": "bbe18c36",
   "metadata": {},
   "outputs": [
    {
     "data": {
      "text/html": [
       "<div>\n",
       "<style scoped>\n",
       "    .dataframe tbody tr th:only-of-type {\n",
       "        vertical-align: middle;\n",
       "    }\n",
       "\n",
       "    .dataframe tbody tr th {\n",
       "        vertical-align: top;\n",
       "    }\n",
       "\n",
       "    .dataframe thead th {\n",
       "        text-align: right;\n",
       "    }\n",
       "</style>\n",
       "<table border=\"1\" class=\"dataframe\">\n",
       "  <thead>\n",
       "    <tr style=\"text-align: right;\">\n",
       "      <th></th>\n",
       "      <th>emp_no</th>\n",
       "      <th>title_id</th>\n",
       "      <th>birth_date</th>\n",
       "      <th>first_name</th>\n",
       "      <th>last_name</th>\n",
       "      <th>sex</th>\n",
       "      <th>hire_date</th>\n",
       "    </tr>\n",
       "  </thead>\n",
       "  <tbody>\n",
       "    <tr>\n",
       "      <th>0</th>\n",
       "      <td>473302</td>\n",
       "      <td>s0001</td>\n",
       "      <td>7/25/1953</td>\n",
       "      <td>Hideyuki</td>\n",
       "      <td>Zallocco</td>\n",
       "      <td>M</td>\n",
       "      <td>4/28/1990</td>\n",
       "    </tr>\n",
       "    <tr>\n",
       "      <th>1</th>\n",
       "      <td>475053</td>\n",
       "      <td>e0002</td>\n",
       "      <td>11/18/1954</td>\n",
       "      <td>Byong</td>\n",
       "      <td>Delgrande</td>\n",
       "      <td>F</td>\n",
       "      <td>9/7/1991</td>\n",
       "    </tr>\n",
       "    <tr>\n",
       "      <th>2</th>\n",
       "      <td>57444</td>\n",
       "      <td>e0002</td>\n",
       "      <td>1/30/1958</td>\n",
       "      <td>Berry</td>\n",
       "      <td>Babb</td>\n",
       "      <td>F</td>\n",
       "      <td>3/21/1992</td>\n",
       "    </tr>\n",
       "    <tr>\n",
       "      <th>3</th>\n",
       "      <td>421786</td>\n",
       "      <td>s0001</td>\n",
       "      <td>9/28/1957</td>\n",
       "      <td>Xiong</td>\n",
       "      <td>Verhoeff</td>\n",
       "      <td>M</td>\n",
       "      <td>11/26/1987</td>\n",
       "    </tr>\n",
       "    <tr>\n",
       "      <th>4</th>\n",
       "      <td>282238</td>\n",
       "      <td>e0003</td>\n",
       "      <td>10/28/1952</td>\n",
       "      <td>Abdelkader</td>\n",
       "      <td>Baumann</td>\n",
       "      <td>F</td>\n",
       "      <td>1/18/1991</td>\n",
       "    </tr>\n",
       "  </tbody>\n",
       "</table>\n",
       "</div>"
      ],
      "text/plain": [
       "   emp_no title_id  birth_date  first_name  last_name sex   hire_date\n",
       "0  473302    s0001   7/25/1953    Hideyuki   Zallocco   M   4/28/1990\n",
       "1  475053    e0002  11/18/1954       Byong  Delgrande   F    9/7/1991\n",
       "2   57444    e0002   1/30/1958       Berry       Babb   F   3/21/1992\n",
       "3  421786    s0001   9/28/1957       Xiong   Verhoeff   M  11/26/1987\n",
       "4  282238    e0003  10/28/1952  Abdelkader    Baumann   F   1/18/1991"
      ]
     },
     "execution_count": 17,
     "metadata": {},
     "output_type": "execute_result"
    }
   ],
   "source": [
    "# Rename emp_title_id column to match column in titles table\n",
    "employees = employees.rename(columns = {\"emp_title_id\":\"title_id\"})\n",
    "employees.head()"
   ]
  },
  {
   "cell_type": "code",
   "execution_count": 18,
   "id": "0bac4daa",
   "metadata": {},
   "outputs": [
    {
     "data": {
      "text/html": [
       "<div>\n",
       "<style scoped>\n",
       "    .dataframe tbody tr th:only-of-type {\n",
       "        vertical-align: middle;\n",
       "    }\n",
       "\n",
       "    .dataframe tbody tr th {\n",
       "        vertical-align: top;\n",
       "    }\n",
       "\n",
       "    .dataframe thead th {\n",
       "        text-align: right;\n",
       "    }\n",
       "</style>\n",
       "<table border=\"1\" class=\"dataframe\">\n",
       "  <thead>\n",
       "    <tr style=\"text-align: right;\">\n",
       "      <th></th>\n",
       "      <th>emp_no</th>\n",
       "      <th>title_id</th>\n",
       "      <th>birth_date</th>\n",
       "      <th>first_name</th>\n",
       "      <th>last_name</th>\n",
       "      <th>sex</th>\n",
       "      <th>hire_date</th>\n",
       "      <th>salary</th>\n",
       "    </tr>\n",
       "  </thead>\n",
       "  <tbody>\n",
       "    <tr>\n",
       "      <th>0</th>\n",
       "      <td>473302</td>\n",
       "      <td>s0001</td>\n",
       "      <td>7/25/1953</td>\n",
       "      <td>Hideyuki</td>\n",
       "      <td>Zallocco</td>\n",
       "      <td>M</td>\n",
       "      <td>4/28/1990</td>\n",
       "      <td>40000</td>\n",
       "    </tr>\n",
       "    <tr>\n",
       "      <th>1</th>\n",
       "      <td>475053</td>\n",
       "      <td>e0002</td>\n",
       "      <td>11/18/1954</td>\n",
       "      <td>Byong</td>\n",
       "      <td>Delgrande</td>\n",
       "      <td>F</td>\n",
       "      <td>9/7/1991</td>\n",
       "      <td>53422</td>\n",
       "    </tr>\n",
       "    <tr>\n",
       "      <th>2</th>\n",
       "      <td>57444</td>\n",
       "      <td>e0002</td>\n",
       "      <td>1/30/1958</td>\n",
       "      <td>Berry</td>\n",
       "      <td>Babb</td>\n",
       "      <td>F</td>\n",
       "      <td>3/21/1992</td>\n",
       "      <td>48973</td>\n",
       "    </tr>\n",
       "    <tr>\n",
       "      <th>3</th>\n",
       "      <td>421786</td>\n",
       "      <td>s0001</td>\n",
       "      <td>9/28/1957</td>\n",
       "      <td>Xiong</td>\n",
       "      <td>Verhoeff</td>\n",
       "      <td>M</td>\n",
       "      <td>11/26/1987</td>\n",
       "      <td>40000</td>\n",
       "    </tr>\n",
       "    <tr>\n",
       "      <th>4</th>\n",
       "      <td>282238</td>\n",
       "      <td>e0003</td>\n",
       "      <td>10/28/1952</td>\n",
       "      <td>Abdelkader</td>\n",
       "      <td>Baumann</td>\n",
       "      <td>F</td>\n",
       "      <td>1/18/1991</td>\n",
       "      <td>40000</td>\n",
       "    </tr>\n",
       "    <tr>\n",
       "      <th>...</th>\n",
       "      <td>...</td>\n",
       "      <td>...</td>\n",
       "      <td>...</td>\n",
       "      <td>...</td>\n",
       "      <td>...</td>\n",
       "      <td>...</td>\n",
       "      <td>...</td>\n",
       "      <td>...</td>\n",
       "    </tr>\n",
       "    <tr>\n",
       "      <th>300019</th>\n",
       "      <td>464231</td>\n",
       "      <td>s0001</td>\n",
       "      <td>8/14/1958</td>\n",
       "      <td>Constantino</td>\n",
       "      <td>Eastman</td>\n",
       "      <td>M</td>\n",
       "      <td>10/28/1988</td>\n",
       "      <td>69696</td>\n",
       "    </tr>\n",
       "    <tr>\n",
       "      <th>300020</th>\n",
       "      <td>255832</td>\n",
       "      <td>e0002</td>\n",
       "      <td>5/8/1955</td>\n",
       "      <td>Yuping</td>\n",
       "      <td>Dayang</td>\n",
       "      <td>F</td>\n",
       "      <td>2/26/1995</td>\n",
       "      <td>75355</td>\n",
       "    </tr>\n",
       "    <tr>\n",
       "      <th>300021</th>\n",
       "      <td>76671</td>\n",
       "      <td>s0001</td>\n",
       "      <td>6/9/1959</td>\n",
       "      <td>Ortrud</td>\n",
       "      <td>Plessier</td>\n",
       "      <td>M</td>\n",
       "      <td>2/24/1988</td>\n",
       "      <td>61886</td>\n",
       "    </tr>\n",
       "    <tr>\n",
       "      <th>300022</th>\n",
       "      <td>264920</td>\n",
       "      <td>s0001</td>\n",
       "      <td>9/22/1959</td>\n",
       "      <td>Percy</td>\n",
       "      <td>Samarati</td>\n",
       "      <td>F</td>\n",
       "      <td>9/8/1994</td>\n",
       "      <td>62772</td>\n",
       "    </tr>\n",
       "    <tr>\n",
       "      <th>300023</th>\n",
       "      <td>464503</td>\n",
       "      <td>s0002</td>\n",
       "      <td>5/31/1964</td>\n",
       "      <td>Arvind</td>\n",
       "      <td>Slobodova</td>\n",
       "      <td>M</td>\n",
       "      <td>11/23/1987</td>\n",
       "      <td>41708</td>\n",
       "    </tr>\n",
       "  </tbody>\n",
       "</table>\n",
       "<p>300024 rows × 8 columns</p>\n",
       "</div>"
      ],
      "text/plain": [
       "        emp_no title_id  birth_date   first_name  last_name sex   hire_date  \\\n",
       "0       473302    s0001   7/25/1953     Hideyuki   Zallocco   M   4/28/1990   \n",
       "1       475053    e0002  11/18/1954        Byong  Delgrande   F    9/7/1991   \n",
       "2        57444    e0002   1/30/1958        Berry       Babb   F   3/21/1992   \n",
       "3       421786    s0001   9/28/1957        Xiong   Verhoeff   M  11/26/1987   \n",
       "4       282238    e0003  10/28/1952   Abdelkader    Baumann   F   1/18/1991   \n",
       "...        ...      ...         ...          ...        ...  ..         ...   \n",
       "300019  464231    s0001   8/14/1958  Constantino    Eastman   M  10/28/1988   \n",
       "300020  255832    e0002    5/8/1955       Yuping     Dayang   F   2/26/1995   \n",
       "300021   76671    s0001    6/9/1959       Ortrud   Plessier   M   2/24/1988   \n",
       "300022  264920    s0001   9/22/1959        Percy   Samarati   F    9/8/1994   \n",
       "300023  464503    s0002   5/31/1964       Arvind  Slobodova   M  11/23/1987   \n",
       "\n",
       "        salary  \n",
       "0        40000  \n",
       "1        53422  \n",
       "2        48973  \n",
       "3        40000  \n",
       "4        40000  \n",
       "...        ...  \n",
       "300019   69696  \n",
       "300020   75355  \n",
       "300021   61886  \n",
       "300022   62772  \n",
       "300023   41708  \n",
       "\n",
       "[300024 rows x 8 columns]"
      ]
     },
     "execution_count": 18,
     "metadata": {},
     "output_type": "execute_result"
    }
   ],
   "source": [
    "# Merge employees and salaries tables\n",
    "emp_salary_df = pd.merge(employees, salaries, on = 'emp_no')\n",
    "emp_salary_df"
   ]
  },
  {
   "cell_type": "code",
   "execution_count": 19,
   "id": "8c580700",
   "metadata": {},
   "outputs": [
    {
     "data": {
      "text/plain": [
       "title_id\n",
       "e0001    48564.434447\n",
       "e0002    48535.336511\n",
       "e0003    48506.799871\n",
       "e0004    48582.896092\n",
       "m0001    51531.041667\n",
       "s0001    58465.382850\n",
       "s0002    58550.172704\n",
       "Name: salary, dtype: float64"
      ]
     },
     "execution_count": 19,
     "metadata": {},
     "output_type": "execute_result"
    }
   ],
   "source": [
    "# Find AVG salary by emp_title_id\n",
    "avg_salary = emp_salary_df.groupby(['title_id'])['salary'].mean()\n",
    "avg_salary"
   ]
  },
  {
   "cell_type": "code",
   "execution_count": 20,
   "id": "b58e387a",
   "metadata": {},
   "outputs": [],
   "source": [
    "# Add Titles CSV\n",
    "c.execute('''CREATE TABLE titles (title_id, title)''')\n",
    "\n",
    "# Add Titles CSV to table\n",
    "titles = pd.read_csv('titles.csv')\n",
    "\n",
    "# write the data to DataFrame\n",
    "titles.to_sql('titles_db', conn, if_exists='append', index = False)"
   ]
  },
  {
   "cell_type": "code",
   "execution_count": 21,
   "id": "6bc89360",
   "metadata": {},
   "outputs": [
    {
     "data": {
      "text/html": [
       "<div>\n",
       "<style scoped>\n",
       "    .dataframe tbody tr th:only-of-type {\n",
       "        vertical-align: middle;\n",
       "    }\n",
       "\n",
       "    .dataframe tbody tr th {\n",
       "        vertical-align: top;\n",
       "    }\n",
       "\n",
       "    .dataframe thead th {\n",
       "        text-align: right;\n",
       "    }\n",
       "</style>\n",
       "<table border=\"1\" class=\"dataframe\">\n",
       "  <thead>\n",
       "    <tr style=\"text-align: right;\">\n",
       "      <th></th>\n",
       "      <th>title_id</th>\n",
       "      <th>title</th>\n",
       "    </tr>\n",
       "  </thead>\n",
       "  <tbody>\n",
       "    <tr>\n",
       "      <th>0</th>\n",
       "      <td>s0001</td>\n",
       "      <td>Staff</td>\n",
       "    </tr>\n",
       "    <tr>\n",
       "      <th>1</th>\n",
       "      <td>s0002</td>\n",
       "      <td>Senior Staff</td>\n",
       "    </tr>\n",
       "    <tr>\n",
       "      <th>2</th>\n",
       "      <td>e0001</td>\n",
       "      <td>Assistant Engineer</td>\n",
       "    </tr>\n",
       "    <tr>\n",
       "      <th>3</th>\n",
       "      <td>e0002</td>\n",
       "      <td>Engineer</td>\n",
       "    </tr>\n",
       "    <tr>\n",
       "      <th>4</th>\n",
       "      <td>e0003</td>\n",
       "      <td>Senior Engineer</td>\n",
       "    </tr>\n",
       "  </tbody>\n",
       "</table>\n",
       "</div>"
      ],
      "text/plain": [
       "  title_id               title\n",
       "0    s0001               Staff\n",
       "1    s0002        Senior Staff\n",
       "2    e0001  Assistant Engineer\n",
       "3    e0002            Engineer\n",
       "4    e0003     Senior Engineer"
      ]
     },
     "execution_count": 21,
     "metadata": {},
     "output_type": "execute_result"
    }
   ],
   "source": [
    "# Preview Titles Data\n",
    "titles.head()"
   ]
  },
  {
   "cell_type": "code",
   "execution_count": 24,
   "id": "73a65c67",
   "metadata": {},
   "outputs": [
    {
     "data": {
      "text/html": [
       "<div>\n",
       "<style scoped>\n",
       "    .dataframe tbody tr th:only-of-type {\n",
       "        vertical-align: middle;\n",
       "    }\n",
       "\n",
       "    .dataframe tbody tr th {\n",
       "        vertical-align: top;\n",
       "    }\n",
       "\n",
       "    .dataframe thead th {\n",
       "        text-align: right;\n",
       "    }\n",
       "</style>\n",
       "<table border=\"1\" class=\"dataframe\">\n",
       "  <thead>\n",
       "    <tr style=\"text-align: right;\">\n",
       "      <th></th>\n",
       "      <th>title_id</th>\n",
       "      <th>title</th>\n",
       "      <th>salary</th>\n",
       "    </tr>\n",
       "  </thead>\n",
       "  <tbody>\n",
       "    <tr>\n",
       "      <th>0</th>\n",
       "      <td>s0001</td>\n",
       "      <td>Staff</td>\n",
       "      <td>58465.382850</td>\n",
       "    </tr>\n",
       "    <tr>\n",
       "      <th>1</th>\n",
       "      <td>s0002</td>\n",
       "      <td>Senior Staff</td>\n",
       "      <td>58550.172704</td>\n",
       "    </tr>\n",
       "    <tr>\n",
       "      <th>2</th>\n",
       "      <td>e0001</td>\n",
       "      <td>Assistant Engineer</td>\n",
       "      <td>48564.434447</td>\n",
       "    </tr>\n",
       "    <tr>\n",
       "      <th>3</th>\n",
       "      <td>e0002</td>\n",
       "      <td>Engineer</td>\n",
       "      <td>48535.336511</td>\n",
       "    </tr>\n",
       "    <tr>\n",
       "      <th>4</th>\n",
       "      <td>e0003</td>\n",
       "      <td>Senior Engineer</td>\n",
       "      <td>48506.799871</td>\n",
       "    </tr>\n",
       "    <tr>\n",
       "      <th>5</th>\n",
       "      <td>e0004</td>\n",
       "      <td>Technique Leader</td>\n",
       "      <td>48582.896092</td>\n",
       "    </tr>\n",
       "    <tr>\n",
       "      <th>6</th>\n",
       "      <td>m0001</td>\n",
       "      <td>Manager</td>\n",
       "      <td>51531.041667</td>\n",
       "    </tr>\n",
       "  </tbody>\n",
       "</table>\n",
       "</div>"
      ],
      "text/plain": [
       "  title_id               title        salary\n",
       "0    s0001               Staff  58465.382850\n",
       "1    s0002        Senior Staff  58550.172704\n",
       "2    e0001  Assistant Engineer  48564.434447\n",
       "3    e0002            Engineer  48535.336511\n",
       "4    e0003     Senior Engineer  48506.799871\n",
       "5    e0004    Technique Leader  48582.896092\n",
       "6    m0001             Manager  51531.041667"
      ]
     },
     "execution_count": 24,
     "metadata": {},
     "output_type": "execute_result"
    }
   ],
   "source": [
    "# Merge title and emp_salary table to find job titles\n",
    "avg_salary_titles = pd.merge(titles, avg_salary, on = 'title_id')\n",
    "avg_salary_titles"
   ]
  },
  {
   "cell_type": "code",
   "execution_count": 36,
   "id": "f706cddc",
   "metadata": {},
   "outputs": [
    {
     "data": {
      "image/png": "[encoded data removed]",
      "text/plain": [
       "<Figure size 432x288 with 1 Axes>"
      ]
     },
     "metadata": {
      "needs_background": "light"
     },
     "output_type": "display_data"
    }
   ],
   "source": [
    "# Create bar chart of avg salary by title\n",
    "avg_salary_titles = avg_salary_titles.sort_values(\"salary\", ascending = False)\n",
    "x_axis = np.arange(len(avg_salary_titles))\n",
    "tick_locations = [value for value in x_axis]\n",
    "\n",
    "# Create a bar chart\n",
    "plt.bar(x_axis, avg_salary_titles['salary'], alpha = .75, align='center')\n",
    "\n",
    "# Clean and label chart\n",
    "plt.xticks(tick_locations, avg_salary_titles[\"title\"], rotation=\"90\")\n",
    "plt.xlim(-0.75, len(x_axis))\n",
    "plt.ylim(0, 65000)\n",
    "plt.title(\"AVG Salary by Title\", fontsize = 14)\n",
    "plt.xlabel(\"Title\", fontsize = 10)\n",
    "plt.ylabel(\"AVG Salary\", fontsize = 10)\n",
    "plt.show()"
   ]
  },
  {
   "cell_type": "code",
   "execution_count": null,
   "id": "5854f3d2",
   "metadata": {},
   "outputs": [],
   "source": []
  }
 ],
 "metadata": {
  "kernelspec": {
   "display_name": "PythonData (base)",
   "language": "python",
   "name": "pythondata"
  },
  "language_info": {
   "codemirror_mode": {
    "name": "ipython",
    "version": 3
   },
   "file_extension": ".py",
   "mimetype": "text/x-python",
   "name": "python",
   "nbconvert_exporter": "python",
   "pygments_lexer": "ipython3",
   "version": "3.8.8"
  }
 },
 "nbformat": 4,
 "nbformat_minor": 5
}
