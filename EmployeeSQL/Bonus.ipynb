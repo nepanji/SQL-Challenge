{
 "cells": [
  {
   "cell_type": "code",
   "execution_count": null,
   "id": "aa96a11c",
   "metadata": {},
   "outputs": [],
   "source": [
    "# Pandas\n",
    "import pandas as pd\n",
    "\n",
    "# SQL Alchemy\n",
    "from sqlalchemy import create_engine\n",
    "\n",
    "database_path = \"../Resources/Census_Data.sqlite\""
   ]
  }
 ],
 "metadata": {
  "kernelspec": {
   "display_name": "PythonData (base)",
   "language": "python",
   "name": "pythondata"
  },
  "language_info": {
   "codemirror_mode": {
    "name": "ipython",
    "version": 3
   },
   "file_extension": ".py",
   "mimetype": "text/x-python",
   "name": "python",
   "nbconvert_exporter": "python",
   "pygments_lexer": "ipython3",
   "version": "3.8.8"
  }
 },
 "nbformat": 4,
 "nbformat_minor": 5
}
